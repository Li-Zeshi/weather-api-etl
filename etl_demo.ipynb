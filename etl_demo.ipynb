{
 "cells": [
  {
   "cell_type": "markdown",
   "id": "559f0bbc-f25f-48e6-93ee-7e0babd0f8b7",
   "metadata": {},
   "source": [
    "Import Modules"
   ]
  },
  {
   "cell_type": "code",
   "execution_count": 2,
   "id": "6241f932-f806-4936-be23-62cee34a9cf7",
   "metadata": {},
   "outputs": [],
   "source": [
    "import sys\n",
    "import os\n",
    "sys.path.append(os.path.abspath(\"..\"))"
   ]
  },
  {
   "cell_type": "code",
   "execution_count": 3,
   "id": "e991b315-ce41-4657-b5ec-299fc5743846",
   "metadata": {},
   "outputs": [],
   "source": [
    "# Import custom modules\n",
    "from weather_fetcher import fetch_all\n",
    "from cleaner import clean_weather_data\n",
    "import pandas as pd"
   ]
  },
  {
   "cell_type": "markdown",
   "id": "9c170284-c017-4e1d-bb50-37d50ae76ce5",
   "metadata": {},
   "source": [
    "Extract Data"
   ]
  },
  {
   "cell_type": "code",
   "execution_count": 4,
   "id": "4565c6b3-fbc3-41b9-a362-99ded43fd3fa",
   "metadata": {},
   "outputs": [
    {
     "data": {
      "text/plain": [
       "[{'coord': {'lon': 116.3972, 'lat': 39.9075},\n",
       "  'weather': [{'id': 804,\n",
       "    'main': 'Clouds',\n",
       "    'description': 'overcast clouds',\n",
       "    'icon': '04n'}],\n",
       "  'base': 'stations',\n",
       "  'main': {'temp': 16.94,\n",
       "   'feels_like': 15.86,\n",
       "   'temp_min': 16.94,\n",
       "   'temp_max': 16.94,\n",
       "   'pressure': 1020,\n",
       "   'humidity': 45,\n",
       "   'sea_level': 1020,\n",
       "   'grnd_level': 1016},\n",
       "  'visibility': 10000,\n",
       "  'wind': {'speed': 1.51, 'deg': 146, 'gust': 2.15},\n",
       "  'clouds': {'all': 92},\n",
       "  'dt': 1758896281,\n",
       "  'sys': {'type': 1,\n",
       "   'id': 9609,\n",
       "   'country': 'CN',\n",
       "   'sunrise': 1758837927,\n",
       "   'sunset': 1758881171},\n",
       "  'timezone': 28800,\n",
       "  'id': 1816670,\n",
       "  'name': 'Beijing',\n",
       "  'cod': 200},\n",
       " {'coord': {'lon': -0.1257, 'lat': 51.5085},\n",
       "  'weather': [{'id': 804,\n",
       "    'main': 'Clouds',\n",
       "    'description': 'overcast clouds',\n",
       "    'icon': '04d'}],\n",
       "  'base': 'stations',\n",
       "  'main': {'temp': 15.04,\n",
       "   'feels_like': 14.4,\n",
       "   'temp_min': 13.95,\n",
       "   'temp_max': 16.11,\n",
       "   'pressure': 1020,\n",
       "   'humidity': 69,\n",
       "   'sea_level': 1020,\n",
       "   'grnd_level': 1016},\n",
       "  'visibility': 10000,\n",
       "  'wind': {'speed': 5.66, 'deg': 110},\n",
       "  'clouds': {'all': 100},\n",
       "  'dt': 1758896172,\n",
       "  'sys': {'type': 2,\n",
       "   'id': 2075535,\n",
       "   'country': 'GB',\n",
       "   'sunrise': 1758865983,\n",
       "   'sunset': 1758909033},\n",
       "  'timezone': 3600,\n",
       "  'id': 2643743,\n",
       "  'name': 'London',\n",
       "  'cod': 200}]"
      ]
     },
     "execution_count": 4,
     "metadata": {},
     "output_type": "execute_result"
    }
   ],
   "source": [
    "# Fetch raw weather data for all cities\n",
    "raw_data = fetch_all()\n",
    "\n",
    "# Display the first two raw records\n",
    "raw_data[:2]"
   ]
  },
  {
   "cell_type": "markdown",
   "id": "aa8b793c-5df4-4c1e-8068-5900e2b99673",
   "metadata": {},
   "source": [
    "Transform Data"
   ]
  },
  {
   "cell_type": "code",
   "execution_count": 5,
   "id": "af74187b-dacf-4a30-ae95-82b6c5f2e8e3",
   "metadata": {},
   "outputs": [
    {
     "data": {
      "text/html": [
       "<div>\n",
       "<style scoped>\n",
       "    .dataframe tbody tr th:only-of-type {\n",
       "        vertical-align: middle;\n",
       "    }\n",
       "\n",
       "    .dataframe tbody tr th {\n",
       "        vertical-align: top;\n",
       "    }\n",
       "\n",
       "    .dataframe thead th {\n",
       "        text-align: right;\n",
       "    }\n",
       "</style>\n",
       "<table border=\"1\" class=\"dataframe\">\n",
       "  <thead>\n",
       "    <tr style=\"text-align: right;\">\n",
       "      <th></th>\n",
       "      <th>city</th>\n",
       "      <th>temp</th>\n",
       "      <th>humidity</th>\n",
       "      <th>wind_speed</th>\n",
       "      <th>weather</th>\n",
       "      <th>time</th>\n",
       "    </tr>\n",
       "  </thead>\n",
       "  <tbody>\n",
       "    <tr>\n",
       "      <th>0</th>\n",
       "      <td>Beijing</td>\n",
       "      <td>16.94</td>\n",
       "      <td>45</td>\n",
       "      <td>1.51</td>\n",
       "      <td>overcast clouds</td>\n",
       "      <td>2025-09-26 14:18:01</td>\n",
       "    </tr>\n",
       "    <tr>\n",
       "      <th>1</th>\n",
       "      <td>London</td>\n",
       "      <td>15.04</td>\n",
       "      <td>69</td>\n",
       "      <td>5.66</td>\n",
       "      <td>overcast clouds</td>\n",
       "      <td>2025-09-26 14:16:12</td>\n",
       "    </tr>\n",
       "    <tr>\n",
       "      <th>2</th>\n",
       "      <td>New York</td>\n",
       "      <td>23.22</td>\n",
       "      <td>73</td>\n",
       "      <td>4.63</td>\n",
       "      <td>clear sky</td>\n",
       "      <td>2025-09-26 14:16:20</td>\n",
       "    </tr>\n",
       "  </tbody>\n",
       "</table>\n",
       "</div>"
      ],
      "text/plain": [
       "       city   temp  humidity  wind_speed          weather                time\n",
       "0   Beijing  16.94        45        1.51  overcast clouds 2025-09-26 14:18:01\n",
       "1    London  15.04        69        5.66  overcast clouds 2025-09-26 14:16:12\n",
       "2  New York  23.22        73        4.63        clear sky 2025-09-26 14:16:20"
      ]
     },
     "execution_count": 5,
     "metadata": {},
     "output_type": "execute_result"
    }
   ],
   "source": [
    "# Clean and structure the raw data\n",
    "df = clean_weather_data(raw_data)\n",
    "\n",
    "# Display the cleaned DataFrame\n",
    "df.head()"
   ]
  },
  {
   "cell_type": "code",
   "execution_count": null,
   "id": "1c758132-48f4-4014-b321-64699bcf9951",
   "metadata": {},
   "outputs": [],
   "source": [
    "Load Data"
   ]
  },
  {
   "cell_type": "code",
   "execution_count": 6,
   "id": "ccbafc8b-96fa-4001-b8c1-cd41a648d3a5",
   "metadata": {},
   "outputs": [
    {
     "name": "stdout",
     "output_type": "stream",
     "text": [
      "Weather data has been saved to weather_data.csv\n"
     ]
    }
   ],
   "source": [
    "# Save the cleaned data to a CSV file\n",
    "output_file = 'weather_data.csv'\n",
    "df.to_csv(output_file, index=False)\n",
    "\n",
    "print(f\"Weather data has been saved to {output_file}\")"
   ]
  },
  {
   "cell_type": "code",
   "execution_count": null,
   "id": "9cbb79c5-5c17-4c74-8297-93f133e9515f",
   "metadata": {},
   "outputs": [],
   "source": []
  }
 ],
 "metadata": {
  "kernelspec": {
   "display_name": "Python 3 (ipykernel)",
   "language": "python",
   "name": "python3"
  },
  "language_info": {
   "codemirror_mode": {
    "name": "ipython",
    "version": 3
   },
   "file_extension": ".py",
   "mimetype": "text/x-python",
   "name": "python",
   "nbconvert_exporter": "python",
   "pygments_lexer": "ipython3",
   "version": "3.13.5"
  }
 },
 "nbformat": 4,
 "nbformat_minor": 5
}
